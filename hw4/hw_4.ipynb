{
 "cells": [
  {
   "cell_type": "code",
   "execution_count": 1,
   "metadata": {},
   "outputs": [],
   "source": [
    "import pandas as pd"
   ]
  },
  {
   "cell_type": "code",
   "execution_count": 2,
   "metadata": {},
   "outputs": [],
   "source": [
    "data_path = \"../DataOnly/WaitData.Published.xlsx\"\n",
    "data = pd.read_excel(data_path, sheet_name='F3')"
   ]
  },
  {
   "cell_type": "code",
   "execution_count": 3,
   "metadata": {},
   "outputs": [],
   "source": [
    "data_cleaned = data.drop([col for col in data.columns if col.startswith('x_')], axis=1)\n",
    "\n",
    "X = data_cleaned.drop('Wait', axis=1)\n",
    "y = data_cleaned['Wait']"
   ]
  },
  {
   "cell_type": "markdown",
   "metadata": {},
   "source": [
    "## Task 5"
   ]
  },
  {
   "cell_type": "code",
   "execution_count": 4,
   "metadata": {},
   "outputs": [
    {
     "name": "stdout",
     "output_type": "stream",
     "text": [
      "23.166288936348092\n"
     ]
    }
   ],
   "source": [
    "from sklearn.linear_model import LinearRegression\n",
    "from sklearn.model_selection import train_test_split\n",
    "from sklearn.metrics import mean_absolute_error\n",
    "\n",
    "model = LinearRegression()\n",
    "model.fit(X, y)\n",
    "\n",
    "y_pred = model.predict(X)\n",
    "residuals = y - y_pred\n",
    "error = mean_absolute_error(y, y_pred)\n",
    "\n",
    "print(error)"
   ]
  },
  {
   "cell_type": "markdown",
   "metadata": {},
   "source": [
    "## Task 6"
   ]
  },
  {
   "cell_type": "code",
   "execution_count": 9,
   "metadata": {},
   "outputs": [
    {
     "name": "stdout",
     "output_type": "stream",
     "text": [
      "Error with 1 features: 32.50201098957221\n",
      "FlowCount2\n",
      "Error with 2 features: 31.776732528223665\n",
      "LineCount2 FlowCount2\n",
      "Error with 3 features: 31.663220627221026\n",
      "LineCount2 FlowCount2 NumCustomersInLastW1\n"
     ]
    }
   ],
   "source": [
    "from sklearn.feature_selection import RFE\n",
    "\n",
    "best_error = float('inf')\n",
    "best_features = []\n",
    "\n",
    "for n_features in range(1, 4):\n",
    "    rfe = RFE(model, n_features_to_select=n_features)\n",
    "    X_rfe = rfe.fit_transform(X, y)\n",
    "    model.fit(X_rfe, y)\n",
    "\n",
    "    y_pred_rfe = model.predict(rfe.transform(X))\n",
    "    cols = list(compress( X.columns, rfe.support_))\n",
    "    error_rfe = mean_absolute_error(y, y_pred_rfe)\n",
    "\n",
    "    print(f\"Error with {n_features} features: {error_rfe}\")\n",
    "    print(*cols)"
   ]
  },
  {
   "cell_type": "markdown",
   "metadata": {},
   "source": [
    "## Task 7"
   ]
  },
  {
   "cell_type": "code",
   "execution_count": 35,
   "metadata": {},
   "outputs": [
    {
     "name": "stdout",
     "output_type": "stream",
     "text": [
      "28.696490632253543\n",
      "['DelayedInLine', 'LineCount0Strict', 'LineCount0']\n"
     ]
    }
   ],
   "source": [
    "selected_features = []\n",
    "remaining_features = list(X.columns)\n",
    "best_error = float('inf')\n",
    "\n",
    "for _ in range(3):\n",
    "    best_feature = None\n",
    "    for feature in remaining_features:\n",
    "        current_features = selected_features + [feature]\n",
    "        model.fit(X[current_features], y)\n",
    "        y_pred_greedy = model.predict(X[current_features])\n",
    "        error_greedy = mean_absolute_error(y, y_pred_greedy)\n",
    "\n",
    "        if error_greedy < best_error:\n",
    "            best_error = error_greedy\n",
    "            best_feature = feature\n",
    "\n",
    "    if best_feature:\n",
    "        selected_features.append(best_feature)\n",
    "        remaining_features.remove(best_feature)\n",
    "\n",
    "print(best_error)\n",
    "print(selected_features)\n"
   ]
  },
  {
   "cell_type": "markdown",
   "metadata": {},
   "source": [
    "## Task 8"
   ]
  },
  {
   "cell_type": "code",
   "execution_count": 36,
   "metadata": {},
   "outputs": [],
   "source": [
    "selected_features = []\n",
    "remaining_features = list(X.columns)\n",
    "best_error = float('inf')\n",
    "best_errors = {}\n",
    "\n",
    "for num_features in range(1, 16):\n",
    "    best_feature = None\n",
    "    for feature in remaining_features:\n",
    "        current_features = selected_features + [feature]\n",
    "        model.fit(X[current_features], y)\n",
    "        y_pred_greedy = model.predict(X[current_features])\n",
    "        error_greedy = mean_absolute_error(y, y_pred_greedy)\n",
    "\n",
    "        if error_greedy < best_error:\n",
    "            best_error = error_greedy\n",
    "            best_feature = feature\n",
    "    if best_feature:\n",
    "        selected_features.append(best_feature)\n",
    "        remaining_features.remove(best_feature)\n",
    "\n",
    "    best_errors[num_features] = {\n",
    "        'best_error': best_error,\n",
    "        'selected_features': list(selected_features)\n",
    "    }\n"
   ]
  },
  {
   "cell_type": "code",
   "execution_count": 34,
   "metadata": {},
   "outputs": [
    {
     "data": {
      "text/plain": [
       "[(10,\n",
       "  {'best_error': 23.846509492065024,\n",
       "   'selected_features': ['DelayedInLine',\n",
       "    'LineCount0Strict',\n",
       "    'LineCount0',\n",
       "    'SumDelayWaitingInLine',\n",
       "    'AheadCount',\n",
       "    'NumCompletedToday',\n",
       "    'NumScheduledNextW2',\n",
       "    'DelayCount',\n",
       "    'InProgressSize',\n",
       "    'StartTime4']}),\n",
       " (11,\n",
       "  {'best_error': 23.69261939854694,\n",
       "   'selected_features': ['DelayedInLine',\n",
       "    'LineCount0Strict',\n",
       "    'LineCount0',\n",
       "    'SumDelayWaitingInLine',\n",
       "    'AheadCount',\n",
       "    'NumCompletedToday',\n",
       "    'NumScheduledNextW2',\n",
       "    'DelayCount',\n",
       "    'InProgressSize',\n",
       "    'StartTime4',\n",
       "    'AvgDelayForDay']}),\n",
       " (12,\n",
       "  {'best_error': 23.627914296582397,\n",
       "   'selected_features': ['DelayedInLine',\n",
       "    'LineCount0Strict',\n",
       "    'LineCount0',\n",
       "    'SumDelayWaitingInLine',\n",
       "    'AheadCount',\n",
       "    'NumCompletedToday',\n",
       "    'NumScheduledNextW2',\n",
       "    'DelayCount',\n",
       "    'InProgressSize',\n",
       "    'StartTime4',\n",
       "    'AvgDelayForDay',\n",
       "    'AvgWaitLastK1Customers']}),\n",
       " (13,\n",
       "  {'best_error': 23.57915967047964,\n",
       "   'selected_features': ['DelayedInLine',\n",
       "    'LineCount0Strict',\n",
       "    'LineCount0',\n",
       "    'SumDelayWaitingInLine',\n",
       "    'AheadCount',\n",
       "    'NumCompletedToday',\n",
       "    'NumScheduledNextW2',\n",
       "    'DelayCount',\n",
       "    'InProgressSize',\n",
       "    'StartTime4',\n",
       "    'AvgDelayForDay',\n",
       "    'AvgWaitLastK1Customers',\n",
       "    'SumDelayInProgress']}),\n",
       " (14,\n",
       "  {'best_error': 23.54808179388149,\n",
       "   'selected_features': ['DelayedInLine',\n",
       "    'LineCount0Strict',\n",
       "    'LineCount0',\n",
       "    'SumDelayWaitingInLine',\n",
       "    'AheadCount',\n",
       "    'NumCompletedToday',\n",
       "    'NumScheduledNextW2',\n",
       "    'DelayCount',\n",
       "    'InProgressSize',\n",
       "    'StartTime4',\n",
       "    'AvgDelayForDay',\n",
       "    'AvgWaitLastK1Customers',\n",
       "    'SumDelayInProgress',\n",
       "    'NumScheduledNextSlot']}),\n",
       " (15,\n",
       "  {'best_error': 23.52096351255344,\n",
       "   'selected_features': ['DelayedInLine',\n",
       "    'LineCount0Strict',\n",
       "    'LineCount0',\n",
       "    'SumDelayWaitingInLine',\n",
       "    'AheadCount',\n",
       "    'NumCompletedToday',\n",
       "    'NumScheduledNextW2',\n",
       "    'DelayCount',\n",
       "    'InProgressSize',\n",
       "    'StartTime4',\n",
       "    'AvgDelayForDay',\n",
       "    'AvgWaitLastK1Customers',\n",
       "    'SumDelayInProgress',\n",
       "    'NumScheduledNextSlot',\n",
       "    'IsFirst']})]"
      ]
     },
     "execution_count": 34,
     "metadata": {},
     "output_type": "execute_result"
    }
   ],
   "source": [
    "filtered_best_errors = {num_features: result for num_features, result in best_errors.items() if result['best_error'] < 24}\n",
    "sorted(filtered_best_errors.items())"
   ]
  },
  {
   "cell_type": "markdown",
   "metadata": {},
   "source": [
    "answer is 10"
   ]
  },
  {
   "cell_type": "markdown",
   "metadata": {},
   "source": [
    "## Task 9"
   ]
  },
  {
   "cell_type": "code",
   "execution_count": 37,
   "metadata": {},
   "outputs": [
    {
     "data": {
      "application/vnd.jupyter.widget-view+json": {
       "model_id": "08094a1f4bb5450a9254bf8834aa8d43",
       "version_major": 2,
       "version_minor": 0
      },
      "text/plain": [
       "  0%|          | 0/98770 [00:00<?, ?it/s]"
      ]
     },
     "metadata": {},
     "output_type": "display_data"
    },
    {
     "name": "stdout",
     "output_type": "stream",
     "text": [
      "26.072745167091377\n",
      "('AheadCount', 'SumDelayWaitingByExamCode', 'NumCompletedToday')\n"
     ]
    }
   ],
   "source": [
    "from itertools import combinations\n",
    "from tqdm.notebook import tqdm\n",
    "\n",
    "best_error = float('inf')\n",
    "best_combination = None\n",
    "\n",
    "for comb in tqdm(list(combinations(X.columns, 3))):\n",
    "    model.fit(X[list(comb)], y)\n",
    "    y_pred_brute = model.predict(X[list(comb)])\n",
    "    error_brute = mean_absolute_error(y, y_pred_brute)\n",
    "\n",
    "    if error_brute < best_error:\n",
    "        best_error = error_brute\n",
    "        best_combination = comb\n",
    "\n",
    "print(best_error)\n",
    "print(best_combination)\n"
   ]
  },
  {
   "cell_type": "code",
   "execution_count": null,
   "metadata": {},
   "outputs": [],
   "source": []
  }
 ],
 "metadata": {
  "kernelspec": {
   "display_name": "base",
   "language": "python",
   "name": "python3"
  },
  "language_info": {
   "codemirror_mode": {
    "name": "ipython",
    "version": 3
   },
   "file_extension": ".py",
   "mimetype": "text/x-python",
   "name": "python",
   "nbconvert_exporter": "python",
   "pygments_lexer": "ipython3",
   "version": "3.10.8"
  }
 },
 "nbformat": 4,
 "nbformat_minor": 2
}
